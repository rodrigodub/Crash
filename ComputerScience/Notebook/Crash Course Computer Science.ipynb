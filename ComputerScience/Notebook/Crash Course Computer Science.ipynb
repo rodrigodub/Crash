{
 "cells": [
  {
   "cell_type": "markdown",
   "metadata": {},
   "source": [
    "# Computer Science\n",
    "### Crash Course\n",
    "\n",
    "Computer classes of the [Crash Course](https://www.youtube.com/playlist?list=PL8dPuuaLjXtNlUrzyH5r6jN9ulIgZBpdo)"
   ]
  },
  {
   "cell_type": "code",
   "execution_count": 31,
   "metadata": {
    "collapsed": false
   },
   "outputs": [],
   "source": [
    "class MechanicalRelay(object):\n",
    "    \"\"\"\n",
    "    This class implements a NO (normally open) Mechanical Relay\n",
    "    https://en.wikipedia.org/wiki/Relay\n",
    "    \"\"\"\n",
    "    def __init__(self):\n",
    "        self.coil = 0\n",
    "        self.input = 0\n",
    "        self.output = 0\n",
    "        self.state()\n",
    "        \n",
    "    def state(self):\n",
    "        print(\"Relay state\\nInput  : {}\\nCoil   : {}\\nOutput : {}\".format(self.input, self.coil, self.output))\n",
    "    \n",
    "    def switchInput(self):\n",
    "        if self.input == 0:\n",
    "            self.input = 1\n",
    "        else:\n",
    "            self.input = 0\n",
    "        self.newOutput()\n",
    "    \n",
    "    def switchCoil(self):\n",
    "        if self.coil == 0:\n",
    "            self.coil = 1\n",
    "        else:\n",
    "            self.coil = 0\n",
    "        self.newOutput()       \n",
    "    \n",
    "    def newOutput(self):\n",
    "        self.output = self.input and self.coil\n",
    "        self.state()"
   ]
  },
  {
   "cell_type": "code",
   "execution_count": 32,
   "metadata": {
    "collapsed": false
   },
   "outputs": [
    {
     "name": "stdout",
     "output_type": "stream",
     "text": [
      "Relay state\n",
      "Input  : 0\n",
      "Coil   : 0\n",
      "Output : 0\n"
     ]
    }
   ],
   "source": [
    "mr = MechanicalRelay()"
   ]
  },
  {
   "cell_type": "code",
   "execution_count": 12,
   "metadata": {
    "collapsed": false
   },
   "outputs": [
    {
     "data": {
      "text/plain": [
       "0"
      ]
     },
     "execution_count": 12,
     "metadata": {},
     "output_type": "execute_result"
    }
   ],
   "source": [
    "mr.coil"
   ]
  },
  {
   "cell_type": "code",
   "execution_count": 13,
   "metadata": {
    "collapsed": false
   },
   "outputs": [
    {
     "data": {
      "text/plain": [
       "0"
      ]
     },
     "execution_count": 13,
     "metadata": {},
     "output_type": "execute_result"
    }
   ],
   "source": [
    "mr.input"
   ]
  },
  {
   "cell_type": "code",
   "execution_count": 14,
   "metadata": {
    "collapsed": false
   },
   "outputs": [
    {
     "data": {
      "text/plain": [
       "0"
      ]
     },
     "execution_count": 14,
     "metadata": {},
     "output_type": "execute_result"
    }
   ],
   "source": [
    "mr.output"
   ]
  },
  {
   "cell_type": "code",
   "execution_count": 38,
   "metadata": {
    "collapsed": false
   },
   "outputs": [
    {
     "name": "stdout",
     "output_type": "stream",
     "text": [
      "Relay state\n",
      "Input  : 1\n",
      "Coil   : 1\n",
      "Output : 1\n"
     ]
    }
   ],
   "source": [
    "mr.switchInput()"
   ]
  },
  {
   "cell_type": "code",
   "execution_count": 39,
   "metadata": {
    "collapsed": false
   },
   "outputs": [
    {
     "name": "stdout",
     "output_type": "stream",
     "text": [
      "Relay state\n",
      "Input  : 1\n",
      "Coil   : 0\n",
      "Output : 0\n"
     ]
    }
   ],
   "source": [
    "mr.switchCoil()"
   ]
  },
  {
   "cell_type": "code",
   "execution_count": null,
   "metadata": {
    "collapsed": true
   },
   "outputs": [],
   "source": []
  }
 ],
 "metadata": {
  "kernelspec": {
   "display_name": "Python 3",
   "language": "python",
   "name": "python3"
  },
  "language_info": {
   "codemirror_mode": {
    "name": "ipython",
    "version": 3
   },
   "file_extension": ".py",
   "mimetype": "text/x-python",
   "name": "python",
   "nbconvert_exporter": "python",
   "pygments_lexer": "ipython3",
   "version": "3.4.3"
  }
 },
 "nbformat": 4,
 "nbformat_minor": 0
}
