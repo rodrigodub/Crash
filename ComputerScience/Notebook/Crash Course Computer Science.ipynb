{
 "cells": [
  {
   "cell_type": "markdown",
   "metadata": {
    "deletable": true,
    "editable": true
   },
   "source": [
    "# Computer Science\n",
    "### Crash Course\n",
    "\n",
    "Computer classes of the [Crash Course](https://www.youtube.com/playlist?list=PL8dPuuaLjXtNlUrzyH5r6jN9ulIgZBpdo)"
   ]
  },
  {
   "cell_type": "code",
   "execution_count": null,
   "metadata": {
    "collapsed": false,
    "deletable": true,
    "editable": true
   },
   "outputs": [],
   "source": [
    "class MechanicalRelay(object):\n",
    "    \"\"\"\n",
    "    This class implements a NO (normally open) Mechanical Relay\n",
    "    https://en.wikipedia.org/wiki/Relay\n",
    "    \"\"\"\n",
    "    def __init__(self):\n",
    "        self.coil = 0\n",
    "        self.input = 0\n",
    "        self.output = 0\n",
    "        self.state()\n",
    "        \n",
    "    def state(self):\n",
    "        print(\"Relay state\\nInput  : {}\\nCoil   : {}\\nOutput : {}\".format(self.input, self.coil, self.output))\n",
    "    \n",
    "    def switchInput(self):\n",
    "        if self.input == 0:\n",
    "            self.input = 1\n",
    "        else:\n",
    "            self.input = 0\n",
    "        self.newOutput()\n",
    "    \n",
    "    def switchCoil(self):\n",
    "        if self.coil == 0:\n",
    "            self.coil = 1\n",
    "        else:\n",
    "            self.coil = 0\n",
    "        self.newOutput()       \n",
    "    \n",
    "    def newOutput(self):\n",
    "        self.output = self.input and self.coil\n",
    "        self.state()"
   ]
  },
  {
   "cell_type": "code",
   "execution_count": null,
   "metadata": {
    "collapsed": false,
    "deletable": true,
    "editable": true
   },
   "outputs": [],
   "source": [
    "mr = MechanicalRelay()"
   ]
  },
  {
   "cell_type": "code",
   "execution_count": null,
   "metadata": {
    "collapsed": false,
    "deletable": true,
    "editable": true
   },
   "outputs": [],
   "source": [
    "mr.coil"
   ]
  },
  {
   "cell_type": "code",
   "execution_count": null,
   "metadata": {
    "collapsed": false,
    "deletable": true,
    "editable": true
   },
   "outputs": [],
   "source": [
    "mr.input"
   ]
  },
  {
   "cell_type": "code",
   "execution_count": null,
   "metadata": {
    "collapsed": false,
    "deletable": true,
    "editable": true
   },
   "outputs": [],
   "source": [
    "mr.output"
   ]
  },
  {
   "cell_type": "code",
   "execution_count": null,
   "metadata": {
    "collapsed": false,
    "deletable": true,
    "editable": true
   },
   "outputs": [],
   "source": [
    "mr.switchInput()"
   ]
  },
  {
   "cell_type": "code",
   "execution_count": null,
   "metadata": {
    "collapsed": false,
    "deletable": true,
    "editable": true
   },
   "outputs": [],
   "source": [
    "mr.switchCoil()"
   ]
  },
  {
   "cell_type": "code",
   "execution_count": null,
   "metadata": {
    "collapsed": true,
    "deletable": true,
    "editable": true
   },
   "outputs": [],
   "source": [
    "class Relay_DPDT(object):\n",
    "    \"\"\"\n",
    "    Implementation of a Double Pole/Double Throw relay\n",
    "    https://en.wikipedia.org/wiki/Relay\n",
    "    \"\"\"\n",
    "    def __init__(self):\n",
    "        self.coil = 0\n",
    "        self.A1 = 0\n",
    "        self.B1 = 0\n",
    "        self.C1 = 0\n",
    "        self.A2 = 0\n",
    "        self.B2 = 0\n",
    "        self.C2 = 0\n",
    "        self.state()\n",
    "    \n",
    "    def state(self):\n",
    "        print(\"Relay state\\n-----------\\nCoil  :   {}\\nA1    :   {}\\nB1    :   {}\\nC1    :   {}\\nA2    :   {}\\nB2    :   {}\\nC2    :   {}\".format(self.coil, self.A1, self.B1, self.C1, self.A2, self.B2, self.C2))"
   ]
  },
  {
   "cell_type": "code",
   "execution_count": null,
   "metadata": {
    "collapsed": false
   },
   "outputs": [],
   "source": [
    "r1 = Relay_DPDT()"
   ]
  },
  {
   "cell_type": "code",
   "execution_count": null,
   "metadata": {
    "collapsed": true
   },
   "outputs": [],
   "source": []
  }
 ],
 "metadata": {
  "kernelspec": {
   "display_name": "Python 3",
   "language": "python",
   "name": "python3"
  },
  "language_info": {
   "codemirror_mode": {
    "name": "ipython",
    "version": 3
   },
   "file_extension": ".py",
   "mimetype": "text/x-python",
   "name": "python",
   "nbconvert_exporter": "python",
   "pygments_lexer": "ipython3",
   "version": "3.6.1"
  }
 },
 "nbformat": 4,
 "nbformat_minor": 0
}
