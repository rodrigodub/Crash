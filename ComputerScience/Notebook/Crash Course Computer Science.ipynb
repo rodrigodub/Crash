{
 "cells": [
  {
   "cell_type": "markdown",
   "metadata": {
    "deletable": true,
    "editable": true
   },
   "source": [
    "# Computer Science\n",
    "### Crash Course\n",
    "\n",
    "Computer classes of the [Crash Course](https://www.youtube.com/playlist?list=PL8dPuuaLjXtNlUrzyH5r6jN9ulIgZBpdo)"
   ]
  },
  {
   "cell_type": "markdown",
   "metadata": {
    "deletable": true,
    "editable": true
   },
   "source": [
    "#### A simple mechanical relay"
   ]
  },
  {
   "cell_type": "code",
   "execution_count": null,
   "metadata": {
    "collapsed": false,
    "deletable": true,
    "editable": true
   },
   "outputs": [],
   "source": [
    "class MechanicalRelay(object):\n",
    "    \"\"\"\n",
    "    This class implements a NO (normally open) Mechanical Relay\n",
    "    https://en.wikipedia.org/wiki/Relay\n",
    "    \"\"\"\n",
    "    def __init__(self):\n",
    "        self.coil = 0\n",
    "        self.input = 0\n",
    "        self.output = 0\n",
    "        self.state()\n",
    "        \n",
    "    def state(self):\n",
    "        print(\"Relay state\\nInput  : {}\\nCoil   : {}\\nOutput : {}\".format(self.input, self.coil, self.output))\n",
    "    \n",
    "    def switchInput(self):\n",
    "        if self.input == 0:\n",
    "            self.input = 1\n",
    "        else:\n",
    "            self.input = 0\n",
    "        self.newOutput()\n",
    "    \n",
    "    def switchCoil(self):\n",
    "        if self.coil == 0:\n",
    "            self.coil = 1\n",
    "        else:\n",
    "            self.coil = 0\n",
    "        self.newOutput()       \n",
    "    \n",
    "    def newOutput(self):\n",
    "        self.output = self.input and self.coil\n",
    "        self.state()"
   ]
  },
  {
   "cell_type": "code",
   "execution_count": null,
   "metadata": {
    "collapsed": false,
    "deletable": true,
    "editable": true
   },
   "outputs": [],
   "source": [
    "mr = MechanicalRelay()"
   ]
  },
  {
   "cell_type": "code",
   "execution_count": null,
   "metadata": {
    "collapsed": false,
    "deletable": true,
    "editable": true
   },
   "outputs": [],
   "source": [
    "mr.coil"
   ]
  },
  {
   "cell_type": "code",
   "execution_count": null,
   "metadata": {
    "collapsed": false,
    "deletable": true,
    "editable": true
   },
   "outputs": [],
   "source": [
    "mr.input"
   ]
  },
  {
   "cell_type": "code",
   "execution_count": null,
   "metadata": {
    "collapsed": false,
    "deletable": true,
    "editable": true
   },
   "outputs": [],
   "source": [
    "mr.output"
   ]
  },
  {
   "cell_type": "code",
   "execution_count": null,
   "metadata": {
    "collapsed": false,
    "deletable": true,
    "editable": true
   },
   "outputs": [],
   "source": [
    "mr.switchInput()"
   ]
  },
  {
   "cell_type": "code",
   "execution_count": null,
   "metadata": {
    "collapsed": false,
    "deletable": true,
    "editable": true
   },
   "outputs": [],
   "source": [
    "mr.switchCoil()"
   ]
  },
  {
   "cell_type": "markdown",
   "metadata": {
    "deletable": true,
    "editable": true
   },
   "source": [
    "#### A more complex DPDT relay. It needs a controller class to join relays together."
   ]
  },
  {
   "cell_type": "code",
   "execution_count": null,
   "metadata": {
    "collapsed": false,
    "deletable": true,
    "editable": true
   },
   "outputs": [],
   "source": [
    "class Relay_DPDT(object):\n",
    "    \"\"\"\n",
    "    Implementation of a Double Pole/Double Throw relay\n",
    "    https://en.wikipedia.org/wiki/Relay\n",
    "    \"\"\"\n",
    "    def __init__(self, name):\n",
    "        \"\"\"Relay constructor\"\"\"\n",
    "        self.name = name\n",
    "        self.coil = 0\n",
    "        self.A1 = 0\n",
    "        self.B1 = 1\n",
    "        self.C1 = 0\n",
    "        self.A2 = 0\n",
    "        self.B2 = 1\n",
    "        self.C2 = 0\n",
    "        self.connections = {}\n",
    "        self.state()\n",
    "    \n",
    "    def state(self):\n",
    "        \"\"\"Prints the state of each relay contact. \n",
    "        0 : off \n",
    "        1 : on\"\"\"\n",
    "        print(\"Relay {} state\\n---------------\\nCoil    :     {}\\nA1      :     {}\\nB1      :     {}\\n\" \\\n",
    "              \"C1      :     {}\\nA2      :     {}\\nB2      :     {}\\nC2      :     {}\"\n",
    "              .format(self.name, self.coil, self.A1, self.B1, self.C1, self.A2, self.B2, self.C2))\n",
    "        \n",
    "    def switchCoil(self):\n",
    "        \"\"\"Method to turn the coil ON or OFF.\"\"\"\n",
    "        if self.coil == 0:\n",
    "            self.coil = 1\n",
    "            self.A1 = 1\n",
    "            self.B1 = 0\n",
    "        else:\n",
    "            self.coil = 0\n",
    "            self.A1 = 0\n",
    "            self.B1 = 1\n",
    "        self.state()        "
   ]
  },
  {
   "cell_type": "code",
   "execution_count": null,
   "metadata": {
    "collapsed": true
   },
   "outputs": [],
   "source": [
    "class Battery(object):\n",
    "    \"\"\"A battery has two contacts, both energized.\"\"\"\n",
    "    def __init__(self, name):\n",
    "        self.name = name\n",
    "        self.positive = 1\n",
    "        self.negative = 1\n",
    "        print(\"Battery {}\".format(self.name))"
   ]
  },
  {
   "cell_type": "code",
   "execution_count": null,
   "metadata": {
    "collapsed": true
   },
   "outputs": [],
   "source": [
    "class Controller(object):\n",
    "    \"\"\"\n",
    "    Class to control the circuit. It has one attribute -self.connection[]- that stores \n",
    "    a list of the relationship between each device contact, and a method -self.update()-\n",
    "    that updates the state (throw) of each contact. \n",
    "    \"\"\"\n",
    "    def __init__(self, name):\n",
    "        \"\"\"Controller constructor\"\"\"\n",
    "        self.name = name\n",
    "        self.connection = []\n",
    "        print(\"Controller {}\".format(self.name))\n",
    "    \n",
    "    def connect(self, obj1, con1, obj2, con2):\n",
    "        \"\"\"Function to conect one device contact with another device contact.\n",
    "        Usage: x.connect(r1, 'A1', r2, 'C1')\"\"\"\n",
    "        # usage: x.connect(r1, 'A1', r2, 'C1')\n",
    "        self.connection.append([[obj1, con1], [obj2, con2]])\n",
    "        \n",
    "    def listConnection(self):\n",
    "        \"\"\"Method to list the connections established by each device.\"\"\"\n",
    "        [print(\"Contact {} of {} connected to contact {} of {}.\".format(i[0][1], i[0][0].name, i[1][1], i[1][0].name))\n",
    "        for i in self.connection]\n",
    "    \n",
    "    def printCircuit(self):\n",
    "        \"\"\"Method to list the energy state of each contact.\"\"\"\n",
    "        [print(\"{}.{} : {}\\n{}.{} : {}\".format(i[0][0].name, i[0][1], i[0][0].__getattribute__(i[0][1])\n",
    "                                               , i[1][0].name, i[1][1], i[1][0].__getattribute__(i[1][0]))) \n",
    "         for i in self.connection]\n",
    "        #[print(\"{}.{}\\n{}.{}\".format(i[0][0].name, i[0][1]\n",
    "        #                                       , i[1][0].name, i[1][1])) \n",
    "        # for i in self.connection]\n",
    "        \n",
    "        "
   ]
  },
  {
   "cell_type": "code",
   "execution_count": null,
   "metadata": {
    "collapsed": false,
    "deletable": true,
    "editable": true
   },
   "outputs": [],
   "source": [
    "r1 = Relay_DPDT('r1')"
   ]
  },
  {
   "cell_type": "code",
   "execution_count": null,
   "metadata": {
    "collapsed": false,
    "deletable": true,
    "editable": true
   },
   "outputs": [],
   "source": [
    "r2 = Relay_DPDT('r2')"
   ]
  },
  {
   "cell_type": "code",
   "execution_count": null,
   "metadata": {
    "collapsed": false
   },
   "outputs": [],
   "source": [
    "b1 = Battery('b1')"
   ]
  },
  {
   "cell_type": "code",
   "execution_count": null,
   "metadata": {
    "collapsed": false
   },
   "outputs": [],
   "source": [
    "circuit = Controller('circuit')"
   ]
  },
  {
   "cell_type": "code",
   "execution_count": null,
   "metadata": {
    "collapsed": true
   },
   "outputs": [],
   "source": [
    "circuit.connect(r1, 'A1', b1, 'positive')"
   ]
  },
  {
   "cell_type": "code",
   "execution_count": null,
   "metadata": {
    "collapsed": true,
    "deletable": true,
    "editable": true
   },
   "outputs": [],
   "source": [
    "circuit.connect(b1, 'negative', r2, 'C1')"
   ]
  },
  {
   "cell_type": "code",
   "execution_count": null,
   "metadata": {
    "collapsed": true,
    "deletable": true,
    "editable": true
   },
   "outputs": [],
   "source": [
    "circuit.connect(r2, 'A1', r1, 'C1')"
   ]
  },
  {
   "cell_type": "code",
   "execution_count": null,
   "metadata": {
    "collapsed": false
   },
   "outputs": [],
   "source": [
    "circuit.listConnection()"
   ]
  },
  {
   "cell_type": "code",
   "execution_count": null,
   "metadata": {
    "collapsed": false
   },
   "outputs": [],
   "source": [
    "circuit.printCircuit()"
   ]
  },
  {
   "cell_type": "markdown",
   "metadata": {},
   "source": [
    "## DEV"
   ]
  },
  {
   "cell_type": "code",
   "execution_count": null,
   "metadata": {
    "collapsed": false
   },
   "outputs": [],
   "source": [
    "r2.state()"
   ]
  },
  {
   "cell_type": "code",
   "execution_count": null,
   "metadata": {
    "collapsed": false
   },
   "outputs": [],
   "source": [
    "r2.switchCoil()"
   ]
  },
  {
   "cell_type": "code",
   "execution_count": null,
   "metadata": {
    "collapsed": false
   },
   "outputs": [],
   "source": [
    "r2.state()"
   ]
  },
  {
   "cell_type": "code",
   "execution_count": null,
   "metadata": {
    "collapsed": true
   },
   "outputs": [],
   "source": []
  },
  {
   "cell_type": "code",
   "execution_count": null,
   "metadata": {
    "collapsed": true
   },
   "outputs": [],
   "source": []
  },
  {
   "cell_type": "code",
   "execution_count": null,
   "metadata": {
    "collapsed": false
   },
   "outputs": [],
   "source": [
    "circuit.connection"
   ]
  },
  {
   "cell_type": "code",
   "execution_count": null,
   "metadata": {
    "collapsed": false
   },
   "outputs": [],
   "source": [
    "[print(i[0][0].name) for i in circuit.connection]"
   ]
  },
  {
   "cell_type": "code",
   "execution_count": null,
   "metadata": {
    "collapsed": true
   },
   "outputs": [],
   "source": [
    "c = circuit.connection"
   ]
  },
  {
   "cell_type": "code",
   "execution_count": null,
   "metadata": {
    "collapsed": false
   },
   "outputs": [],
   "source": [
    "c[0]"
   ]
  },
  {
   "cell_type": "code",
   "execution_count": null,
   "metadata": {
    "collapsed": false
   },
   "outputs": [],
   "source": [
    "c[0][1]"
   ]
  },
  {
   "cell_type": "code",
   "execution_count": null,
   "metadata": {
    "collapsed": false
   },
   "outputs": [],
   "source": [
    "c[0][0][0].name"
   ]
  },
  {
   "cell_type": "code",
   "execution_count": null,
   "metadata": {
    "collapsed": false
   },
   "outputs": [],
   "source": [
    "c[0][0][1]"
   ]
  },
  {
   "cell_type": "code",
   "execution_count": null,
   "metadata": {
    "collapsed": false
   },
   "outputs": [],
   "source": [
    "c[0][0][0].__getattribute__(c[0][0][1])"
   ]
  },
  {
   "cell_type": "code",
   "execution_count": null,
   "metadata": {
    "collapsed": false,
    "deletable": true,
    "editable": true
   },
   "outputs": [],
   "source": [
    "c[0][1][0].name"
   ]
  },
  {
   "cell_type": "code",
   "execution_count": null,
   "metadata": {
    "collapsed": false,
    "deletable": true,
    "editable": true
   },
   "outputs": [],
   "source": [
    "c[0][1][1]"
   ]
  },
  {
   "cell_type": "code",
   "execution_count": null,
   "metadata": {
    "collapsed": false,
    "deletable": true,
    "editable": true
   },
   "outputs": [],
   "source": [
    "c[0][1][0].__getattribute__(c[0][1][1])"
   ]
  },
  {
   "cell_type": "code",
   "execution_count": null,
   "metadata": {
    "collapsed": false
   },
   "outputs": [],
   "source": [
    "c"
   ]
  },
  {
   "cell_type": "code",
   "execution_count": null,
   "metadata": {
    "collapsed": true
   },
   "outputs": [],
   "source": []
  },
  {
   "cell_type": "code",
   "execution_count": null,
   "metadata": {
    "collapsed": true,
    "deletable": true,
    "editable": true
   },
   "outputs": [],
   "source": [
    "a = [[r1,'A1'], [r2, 'coil']]"
   ]
  },
  {
   "cell_type": "code",
   "execution_count": null,
   "metadata": {
    "collapsed": false,
    "deletable": true,
    "editable": true
   },
   "outputs": [],
   "source": [
    "a"
   ]
  },
  {
   "cell_type": "code",
   "execution_count": null,
   "metadata": {
    "collapsed": false,
    "deletable": true,
    "editable": true
   },
   "outputs": [],
   "source": [
    "a[0][0].__getattribute__(a[0][1])"
   ]
  },
  {
   "cell_type": "code",
   "execution_count": null,
   "metadata": {
    "collapsed": false,
    "deletable": true,
    "editable": true
   },
   "outputs": [],
   "source": [
    "r1.__dict__"
   ]
  },
  {
   "cell_type": "code",
   "execution_count": null,
   "metadata": {
    "collapsed": false,
    "deletable": true,
    "editable": true
   },
   "outputs": [],
   "source": [
    "r1.__dict__['A1']"
   ]
  },
  {
   "cell_type": "code",
   "execution_count": null,
   "metadata": {
    "collapsed": false,
    "deletable": true,
    "editable": true
   },
   "outputs": [],
   "source": [
    "r1.__getattribute__('A1')"
   ]
  },
  {
   "cell_type": "code",
   "execution_count": null,
   "metadata": {
    "collapsed": false,
    "deletable": true,
    "editable": true
   },
   "outputs": [],
   "source": [
    "r1.__dir__()[1]"
   ]
  },
  {
   "cell_type": "code",
   "execution_count": null,
   "metadata": {
    "collapsed": true,
    "deletable": true,
    "editable": true
   },
   "outputs": [],
   "source": [
    "b = [r1.__dir__()[1], r2.__dir__()[0]]"
   ]
  },
  {
   "cell_type": "code",
   "execution_count": null,
   "metadata": {
    "collapsed": false,
    "deletable": true,
    "editable": true
   },
   "outputs": [],
   "source": [
    "b"
   ]
  },
  {
   "cell_type": "code",
   "execution_count": null,
   "metadata": {
    "collapsed": false,
    "deletable": true,
    "editable": true
   },
   "outputs": [],
   "source": [
    "r2.switchCoil()"
   ]
  },
  {
   "cell_type": "code",
   "execution_count": null,
   "metadata": {
    "collapsed": true,
    "deletable": true,
    "editable": true
   },
   "outputs": [],
   "source": [
    "r2.state()"
   ]
  },
  {
   "cell_type": "code",
   "execution_count": null,
   "metadata": {
    "collapsed": false,
    "deletable": true,
    "editable": true
   },
   "outputs": [],
   "source": [
    "r3.state()"
   ]
  },
  {
   "cell_type": "code",
   "execution_count": null,
   "metadata": {
    "collapsed": true,
    "deletable": true,
    "editable": true
   },
   "outputs": [],
   "source": []
  }
 ],
 "metadata": {
  "kernelspec": {
   "display_name": "Python 3",
   "language": "python",
   "name": "python3"
  },
  "language_info": {
   "codemirror_mode": {
    "name": "ipython",
    "version": 3
   },
   "file_extension": ".py",
   "mimetype": "text/x-python",
   "name": "python",
   "nbconvert_exporter": "python",
   "pygments_lexer": "ipython3",
   "version": "3.4.3"
  }
 },
 "nbformat": 4,
 "nbformat_minor": 0
}
