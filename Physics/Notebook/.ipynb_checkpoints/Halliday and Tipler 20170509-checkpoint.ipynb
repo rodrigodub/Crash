{
 "cells": [
  {
   "cell_type": "markdown",
   "metadata": {},
   "source": [
    "# Physics\n",
    "### Tipler: Física para Cientistas e Engenheiros 6a. Ed.\n",
    "### Halliday: Fundamentos de Física 9a. Ed.\n",
    "#### --------------------------------------------------------"
   ]
  },
  {
   "cell_type": "markdown",
   "metadata": {},
   "source": [
    "## VECTORS"
   ]
  },
  {
   "cell_type": "markdown",
   "metadata": {},
   "source": [
    "References:\n",
    "\n",
    "NumPy Quickstart Tutorial: https://docs.scipy.org/doc/numpy-dev/user/quickstart.html\n",
    "\n",
    "Matrix Arithmetics under NumPy and Python: http://www.python-course.eu/matrix_arithmetic.php"
   ]
  },
  {
   "cell_type": "code",
   "execution_count": null,
   "metadata": {},
   "outputs": [],
   "source": [
    "import sys"
   ]
  },
  {
   "cell_type": "code",
   "execution_count": null,
   "metadata": {},
   "outputs": [],
   "source": [
    "print(sys.version)"
   ]
  },
  {
   "cell_type": "code",
   "execution_count": null,
   "metadata": {
    "collapsed": true
   },
   "outputs": [],
   "source": [
    "import math"
   ]
  },
  {
   "cell_type": "code",
   "execution_count": null,
   "metadata": {
    "collapsed": true
   },
   "outputs": [],
   "source": [
    "import numpy as np"
   ]
  },
  {
   "cell_type": "code",
   "execution_count": null,
   "metadata": {
    "collapsed": true
   },
   "outputs": [],
   "source": [
    "class HTVector(object):\n",
    "    \"\"\"\n",
    "    Class to define a numpy vector. There are two ways to create a vector:\n",
    "    either giving a size and orientation (magnitude m, trigonometric angle theta (in degrees)) \n",
    "    OR giving its x, y, z (...) dimensions.\n",
    "    \"\"\"\n",
    "    def __init__(self, m=None, theta=None, x=None, y=None, z=None):\n",
    "        if (m and theta):\n",
    "            self.m = m\n",
    "            self.theta = theta\n",
    "            print(\"Magnitude: {}\\nAngle: {}\". format(self.m, self.theta))\n",
    "            self.calculateFromSizeAngle()\n",
    "            print(\"X: {}\\nY: {}\". format(self.x, self.y))\n",
    "        elif (x and y):\n",
    "            self.x = x\n",
    "            self.y = y\n",
    "            print(\"X: {}\\nY: {}\". format(self.x, self.y))\n",
    "            self.calculateFromXY()\n",
    "            print(\"Magnitude: {}\\nAngle: {}\". format(self.m, self.theta))\n",
    "        else:\n",
    "            print(\"Vector not defined.\")\n",
    "    \n",
    "    def calculateFromSizeAngle(self):\n",
    "        self.x = self.m * math.cos(math.radians(self.theta))\n",
    "        self.y = self.m * math.sin(math.radians(self.theta))\n",
    "    \n",
    "    def calculateFromXY(self):\n",
    "        self.m = math.sqrt(self.x**2 + self.y**2)\n",
    "        self.theta = math.degrees(math.atan((self.y / self.x)))"
   ]
  },
  {
   "cell_type": "code",
   "execution_count": null,
   "metadata": {},
   "outputs": [],
   "source": [
    "A = HTVector(m=15, theta=2)"
   ]
  },
  {
   "cell_type": "code",
   "execution_count": null,
   "metadata": {},
   "outputs": [],
   "source": [
    "B = HTVector(x=3, y=4)"
   ]
  },
  {
   "cell_type": "code",
   "execution_count": null,
   "metadata": {},
   "outputs": [],
   "source": [
    "C = HTVector()"
   ]
  },
  {
   "cell_type": "code",
   "execution_count": null,
   "metadata": {},
   "outputs": [],
   "source": [
    "d = np.array([5,3])"
   ]
  },
  {
   "cell_type": "code",
   "execution_count": null,
   "metadata": {},
   "outputs": [],
   "source": [
    "d.size"
   ]
  },
  {
   "cell_type": "code",
   "execution_count": null,
   "metadata": {},
   "outputs": [],
   "source": [
    "math.cos(60)"
   ]
  },
  {
   "cell_type": "code",
   "execution_count": null,
   "metadata": {},
   "outputs": [],
   "source": [
    "math.cos(math.radians(60))"
   ]
  },
  {
   "cell_type": "code",
   "execution_count": null,
   "metadata": {
    "collapsed": true
   },
   "outputs": [],
   "source": []
  }
 ],
 "metadata": {
  "kernelspec": {
   "display_name": "Python 3",
   "language": "python",
   "name": "python3"
  },
  "language_info": {
   "codemirror_mode": {
    "name": "ipython",
    "version": 3
   },
   "file_extension": ".py",
   "mimetype": "text/x-python",
   "name": "python",
   "nbconvert_exporter": "python",
   "pygments_lexer": "ipython3",
   "version": "3.6.1"
  }
 },
 "nbformat": 4,
 "nbformat_minor": 2
}
